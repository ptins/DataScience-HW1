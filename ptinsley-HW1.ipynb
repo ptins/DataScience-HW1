{
 "cells": [
  {
   "cell_type": "code",
   "execution_count": 1,
   "metadata": {},
   "outputs": [],
   "source": [
    "# imports\n",
    "import numpy as np\n",
    "import pandas as pd"
   ]
  },
  {
   "cell_type": "code",
   "execution_count": 2,
   "metadata": {
    "scrolled": true
   },
   "outputs": [
    {
     "name": "stdout",
     "output_type": "stream",
     "text": [
      "                       math_score  data_science_score\n",
      "student_name                                         \n",
      "Giannis Antetokounmpo          82                  84\n",
      "Kobe Bryant                    98                  97\n",
      "Stephen Curry                  83                  83\n",
      "Kevin Durant                   95                  97\n",
      "Joel Embiid                    76                  87\n",
      "Markelle Fultz                 71                  73\n",
      "Manu Ginobili                  81                  83\n",
      "James Harden                   85                  87\n",
      "Brandon Ingram                 76                  83\n"
     ]
    }
   ],
   "source": [
    "# read in data\n",
    "df = pd.read_csv('./players_scores.csv').set_index('student_name')\n",
    "print(df)"
   ]
  },
  {
   "cell_type": "markdown",
   "metadata": {},
   "source": [
    "## 1 Data Description"
   ]
  },
  {
   "cell_type": "code",
   "execution_count": 3,
   "metadata": {},
   "outputs": [],
   "source": [
    "scores = df['data_science_score']\n",
    "# scores = df['math_score']"
   ]
  },
  {
   "cell_type": "markdown",
   "metadata": {},
   "source": [
    "#### 1. Calculate mean, median, and mode of Data Science scores"
   ]
  },
  {
   "cell_type": "code",
   "execution_count": 4,
   "metadata": {},
   "outputs": [
    {
     "name": "stdout",
     "output_type": "stream",
     "text": [
      "Mean: 86.0, Median: 84.0, Mode: [83]\n"
     ]
    }
   ],
   "source": [
    "print('Mean: {}, Median: {}, Mode: {}'.format(\n",
    "scores.mean(), scores.median(), scores.mode().values))"
   ]
  },
  {
   "cell_type": "markdown",
   "metadata": {},
   "source": [
    "#### 2. Calculate variance and standard deviation of Data Science scores"
   ]
  },
  {
   "cell_type": "code",
   "execution_count": 1,
   "metadata": {},
   "outputs": [
    {
     "ename": "NameError",
     "evalue": "name 'scores' is not defined",
     "output_type": "error",
     "traceback": [
      "\u001b[0;31m---------------------------------------------------------------------------\u001b[0m",
      "\u001b[0;31mNameError\u001b[0m                                 Traceback (most recent call last)",
      "\u001b[0;32m<ipython-input-1-fc3dfb3a2118>\u001b[0m in \u001b[0;36m<module>\u001b[0;34m()\u001b[0m\n\u001b[1;32m      1\u001b[0m print('Variance: {}, Standard Deviation: {}'.format(\n\u001b[0;32m----> 2\u001b[0;31m scores.std()**2, scores.std()))\n\u001b[0m",
      "\u001b[0;31mNameError\u001b[0m: name 'scores' is not defined"
     ]
    }
   ],
   "source": [
    "print('Variance: {}, Standard Deviation: {}'.format(\n",
    "scores.std()**2, scores.std()))"
   ]
  },
  {
   "cell_type": "markdown",
   "metadata": {},
   "source": [
    "#### 3. Incremental Mean/Variance Functions"
   ]
  },
  {
   "cell_type": "code",
   "execution_count": 6,
   "metadata": {},
   "outputs": [],
   "source": [
    "def incremental_mean(mu, n, x_new):\n",
    "    return ((n*mu)+x_new)/(n+1)"
   ]
  },
  {
   "cell_type": "code",
   "execution_count": 7,
   "metadata": {},
   "outputs": [],
   "source": [
    "def incremental_var(v, mu, n, x_new):\n",
    "    mu_new = incremental_mean(mu, n, x_new)\n",
    "    return ((n-1)*(v) + (x_new - mu)*(x_new - mu_new))/n"
   ]
  },
  {
   "cell_type": "code",
   "execution_count": 8,
   "metadata": {},
   "outputs": [
    {
     "name": "stdout",
     "output_type": "stream",
     "text": [
      "u' = 87.4\n"
     ]
    }
   ],
   "source": [
    "u_prime = incremental_mean(mu=scores.mean(), n=len(scores), x_new=100)\n",
    "print('u\\' = {}'.format(u_prime))"
   ]
  },
  {
   "cell_type": "code",
   "execution_count": 9,
   "metadata": {},
   "outputs": [
    {
     "name": "stdout",
     "output_type": "stream",
     "text": [
      "v' = 68.93333333333332\n"
     ]
    }
   ],
   "source": [
    "v_prime = incremental_var(scores.std()**2, scores.mean(), len(scores), 100)\n",
    "print('v\\' = {}'.format(v_prime))"
   ]
  },
  {
   "cell_type": "markdown",
   "metadata": {},
   "source": [
    "#### Verify Function Correctness"
   ]
  },
  {
   "cell_type": "code",
   "execution_count": 10,
   "metadata": {},
   "outputs": [
    {
     "name": "stdout",
     "output_type": "stream",
     "text": [
      "u' = 87.4\n",
      "v' = 68.93333333333334\n"
     ]
    }
   ],
   "source": [
    "scores_plus = scores.append(pd.Series(100))\n",
    "print('u\\' = {}'.format(scores_plus.mean()))\n",
    "print('v\\' = {}'.format(scores_plus.std()**2))"
   ]
  },
  {
   "cell_type": "markdown",
   "metadata": {},
   "source": [
    "## 2 Data Visualization"
   ]
  },
  {
   "cell_type": "code",
   "execution_count": 11,
   "metadata": {},
   "outputs": [],
   "source": [
    "import matplotlib.pyplot as plt"
   ]
  },
  {
   "cell_type": "code",
   "execution_count": 12,
   "metadata": {},
   "outputs": [],
   "source": [
    "math = df['math_score']\n",
    "data = df['data_science_score']"
   ]
  },
  {
   "cell_type": "markdown",
   "metadata": {},
   "source": [
    "#### 1. Q-Q Plot"
   ]
  },
  {
   "cell_type": "code",
   "execution_count": 13,
   "metadata": {},
   "outputs": [
    {
     "data": {
      "image/png": "[encoded data removed]",
      "text/plain": [
       "<matplotlib.figure.Figure at 0x10970c588>"
      ]
     },
     "metadata": {},
     "output_type": "display_data"
    }
   ],
   "source": [
    "mathM = (math-math.min())/(math.max()-math.min())\n",
    "dataM = (data-data.min())/(data.max()-data.min())\n",
    "\n",
    "mathS = mathM.sort_values()\n",
    "dataS = dataM.sort_values()\n",
    "\n",
    "plt.figure(1)\n",
    "plt.plot(mathS, dataS, 'o')\n",
    "plt.xlabel('math')\n",
    "plt.ylabel('data')\n",
    "plt.plot([0,1], [0,1], 'k--')\n",
    "plt.show()"
   ]
  },
  {
   "cell_type": "code",
   "execution_count": null,
   "metadata": {},
   "outputs": [],
   "source": [
    "# Since the points line above the y=x line, \n",
    "# the scores are higher in the data science class, \n",
    "# which means data science is the easier class."
   ]
  },
  {
   "cell_type": "markdown",
   "metadata": {},
   "source": [
    "#### 2. Scatter Plot"
   ]
  },
  {
   "cell_type": "code",
   "execution_count": 14,
   "metadata": {},
   "outputs": [
    {
     "data": {
      "image/png": "[encoded data removed]",
      "text/plain": [
       "<matplotlib.figure.Figure at 0x1096f7dd8>"
      ]
     },
     "metadata": {},
     "output_type": "display_data"
    }
   ],
   "source": [
    "plt.figure(2)\n",
    "plt.scatter(math, data)\n",
    "fit = np.polyfit(math, data, deg=1)\n",
    "plt.plot(math, fit[0]*math+fit[1], 'k--')\n",
    "plt.show()"
   ]
  },
  {
   "cell_type": "code",
   "execution_count": 15,
   "metadata": {},
   "outputs": [
    {
     "name": "stdout",
     "output_type": "stream",
     "text": [
      "student_name\n",
      "Joel Embiid    6.385484\n",
      "dtype: float64\n"
     ]
    }
   ],
   "source": [
    "# The furthest point appears to be located at\n",
    "# x=76, y=87, which is associated with Joel Embiid.\n",
    "# To verify, we can calculate residuals and find the maximum.\n",
    "res = abs(data-(fit[0]*math+fit[1]))\n",
    "print(res[res == max(res)])"
   ]
  },
  {
   "cell_type": "code",
   "execution_count": 16,
   "metadata": {},
   "outputs": [],
   "source": [
    "# We see that our guess is right - nice!"
   ]
  },
  {
   "cell_type": "markdown",
   "metadata": {},
   "source": [
    "## 3 Data Reduction"
   ]
  },
  {
   "cell_type": "code",
   "execution_count": 17,
   "metadata": {},
   "outputs": [],
   "source": [
    "import numpy as np\n",
    "from scipy import sparse\n",
    "from scipy.sparse import linalg\n",
    "import matplotlib.pyplot as plt"
   ]
  },
  {
   "cell_type": "code",
   "execution_count": 18,
   "metadata": {},
   "outputs": [],
   "source": [
    "A = pd.read_csv('./social_graph.csv').set_index('name').as_matrix().astype(float)"
   ]
  },
  {
   "cell_type": "code",
   "execution_count": 19,
   "metadata": {},
   "outputs": [
    {
     "name": "stdout",
     "output_type": "stream",
     "text": [
      "U0:\n",
      "[[ -9.57037059e-19   4.08248290e-01]\n",
      " [  1.10161203e-17   4.08248290e-01]\n",
      " [  7.74244941e-17   4.08248290e-01]\n",
      " [  1.23019531e-16   4.08248290e-01]\n",
      " [ -5.77350269e-01   8.25793665e-18]\n",
      " [ -5.77350269e-01   5.06892807e-18]\n",
      " [  4.28435485e-17   4.08248290e-01]\n",
      " [  3.81660253e-17   4.08248290e-01]\n",
      " [ -5.77350269e-01   1.33414746e-17]]\n",
      "\n",
      "S:\n",
      "[ 3.  6.]\n",
      "\n",
      "Vt:\n",
      "[[  9.71708941e-17   9.71708941e-17   9.71708941e-17   9.71708941e-17\n",
      "   -5.77350269e-01  -5.77350269e-01   9.71708941e-17   9.71708941e-17\n",
      "   -5.77350269e-01]\n",
      " [  4.08248290e-01   4.08248290e-01   4.08248290e-01   4.08248290e-01\n",
      "    4.44472322e-18   4.44472322e-18   4.08248290e-01   4.08248290e-01\n",
      "    4.44472322e-18]]\n"
     ]
    }
   ],
   "source": [
    "U0, S, Vt = linalg.svds(A, k=2)\n",
    "print('U0:\\n{}\\n\\nS:\\n{}\\n\\nVt:\\n{}'.format(U0, S, Vt))"
   ]
  },
  {
   "cell_type": "code",
   "execution_count": 20,
   "metadata": {},
   "outputs": [
    {
     "name": "stdout",
     "output_type": "stream",
     "text": [
      "(9, 2)\n",
      "(2,)\n",
      "(2, 9)\n"
     ]
    }
   ],
   "source": [
    "print('{}\\n{}\\n{}'.format(U0.shape, S.shape, Vt.shape))"
   ]
  },
  {
   "cell_type": "code",
   "execution_count": 24,
   "metadata": {},
   "outputs": [
    {
     "data": {
      "image/png": "[encoded data removed]",
      "text/plain": [
       "<matplotlib.figure.Figure at 0x10bee0be0>"
      ]
     },
     "metadata": {},
     "output_type": "display_data"
    }
   ],
   "source": [
    "plt.figure(3)\n",
    "pdscatter = plt.scatter(U0[:,0],U0[:,1])\n",
    "plt.title('SVD for Adjacency Matrix')\n",
    "plt.show()"
   ]
  },
  {
   "cell_type": "code",
   "execution_count": 22,
   "metadata": {},
   "outputs": [
    {
     "data": {
      "text/plain": [
       "array([[ -9.57037059e-19,   4.08248290e-01],\n",
       "       [  1.10161203e-17,   4.08248290e-01],\n",
       "       [  7.74244941e-17,   4.08248290e-01],\n",
       "       [  1.23019531e-16,   4.08248290e-01],\n",
       "       [ -5.77350269e-01,   8.25793665e-18],\n",
       "       [ -5.77350269e-01,   5.06892807e-18],\n",
       "       [  4.28435485e-17,   4.08248290e-01],\n",
       "       [  3.81660253e-17,   4.08248290e-01],\n",
       "       [ -5.77350269e-01,   1.33414746e-17]])"
      ]
     },
     "execution_count": 22,
     "metadata": {},
     "output_type": "execute_result"
    }
   ],
   "source": [
    "U0"
   ]
  },
  {
   "cell_type": "code",
   "execution_count": null,
   "metadata": {},
   "outputs": [],
   "source": [
    "# It seems that one cluster of students is A-B-C-D-G-H\n",
    "# The second cluster consists of E-F-I."
   ]
  }
 ],
 "metadata": {
  "kernelspec": {
   "display_name": "Python 3",
   "language": "python",
   "name": "python3"
  },
  "language_info": {
   "codemirror_mode": {
    "name": "ipython",
    "version": 3
   },
   "file_extension": ".py",
   "mimetype": "text/x-python",
   "name": "python",
   "nbconvert_exporter": "python",
   "pygments_lexer": "ipython3",
   "version": "3.6.4"
  }
 },
 "nbformat": 4,
 "nbformat_minor": 2
}
